{
 "cells": [
  {
   "cell_type": "markdown",
   "metadata": {},
   "source": [
    "# Composite Water Stress Index (CWSI) \n",
    "\n",
    "This project aims to develop a **Composite Water Stress Index (CWSI)** that provides a single, comparable score representing a country’s water usage, scarcity and sustainability profile. By integrating multiple dimensions such as total consumption, per capita use, groundwater depletion and rainfall. The index offers a multidimensional perspective on how water is being used and conserved globally. "
   ]
  }
 ],
 "metadata": {
  "language_info": {
   "name": "python"
  }
 },
 "nbformat": 4,
 "nbformat_minor": 2
}
